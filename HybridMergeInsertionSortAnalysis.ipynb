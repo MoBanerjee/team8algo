{
 "cells": [
  {
   "cell_type": "code",
   "execution_count": 2,
   "id": "eff0e4e1",
   "metadata": {},
   "outputs": [],
   "source": [
    "import matplotlib.pyplot as plt"
   ]
  },
  {
   "cell_type": "code",
   "execution_count": 3,
   "id": "d43240d2",
   "metadata": {},
   "outputs": [],
   "source": [
    "from numpy.random import randint\n",
    "from numpy.random import seed\n",
    "inputdataset={}\n",
    "seed(8)\n",
    "r=1000\n",
    "while(r<10000001):\n",
    "    values = randint(1, 10001, r)\n",
    "    inputdataset[r]=values\n",
    "    r*=10"
   ]
  },
  {
   "cell_type": "code",
   "execution_count": 4,
   "id": "ed0d55a9",
   "metadata": {},
   "outputs": [
    {
     "name": "stdout",
     "output_type": "stream",
     "text": [
      "{1000: array([4548, 9557, 2034, 2182, 6996, 5481, 2097, 4212,  459, 8813, 4366,\n",
      "       6026, 9278, 6288, 5470, 3427, 7484, 8463, 6585, 8970, 4660, 5046,\n",
      "       2876, 6315, 4507, 6467, 9958, 3454, 7250, 3948, 3856, 1501,  492,\n",
      "       8768,  599, 7200, 2582, 2077,  736, 1419, 8001, 1401, 9434, 7772,\n",
      "       5484, 1575, 5431, 5167, 3719, 3233, 1418, 2019, 4839, 6571, 4924,\n",
      "       4401, 6257,  207,  119, 9144, 9912,  789, 3321, 7384, 1251, 5785,\n",
      "       1437, 9862, 4931, 5388, 7389, 7625, 7642, 4776,  912, 1172, 6715,\n",
      "        382, 3628, 8221, 7780, 5265, 1186, 6847, 9736, 4948, 2858, 1966,\n",
      "       3223, 2765, 7510,  562, 5790,  798, 3496, 1305, 7010, 4897, 3536,\n",
      "       8150, 8835, 6088, 9224, 9416, 2059, 5745, 4900, 3344, 8117, 3922,\n",
      "       3399, 2868, 2452, 8445, 9541, 4855, 2857, 6592, 1146, 5238,  124,\n",
      "       6705, 6507, 9830, 4475, 1310, 8139, 8367, 4058, 7175, 3066, 2227,\n",
      "       6103, 4892,  978, 3922, 5578, 2269, 2529, 9955, 8985, 7617, 9426,\n",
      "       6139, 6580, 7720, 9805, 6742, 4514,  322,  217, 5537, 4374, 6802,\n",
      "       8071, 9877, 9134, 5890,  722, 8463, 5749, 3746, 6227,  340, 9255,\n",
      "       9616, 7956, 4239, 1148, 9780, 1912, 6187, 8149, 7512, 3185, 1287,\n",
      "       8841, 2797, 5575, 3703, 3965, 3790, 1410, 9446, 1164, 9605, 3099,\n",
      "       9454, 7190, 5163, 6413, 3788, 8434, 5095, 2888, 1138, 1949, 2016,\n",
      "       2739, 4913, 1054, 3772, 7902, 7203, 4581, 4769, 7257, 6507, 1589,\n",
      "        188, 7525, 9124,  722, 1113, 7738, 3847, 6795, 1661, 2978, 7271,\n",
      "       2365, 1362, 1421, 6727, 8954, 9486, 1784, 3844, 7969,  874, 1539,\n",
      "       9022, 1962, 7622, 4649, 5962, 5605,  768, 9167, 3592, 7154, 6301,\n",
      "       2894, 7901, 2696, 1728, 5166, 8468, 8547, 6759, 6470, 6711, 9448,\n",
      "       5498, 1239, 8663, 1372, 8116, 2226, 4867, 5147, 5855, 6140, 8136,\n",
      "       1139, 5698, 8784, 3032, 5157, 9432, 5514, 4840, 2095, 6179, 7906,\n",
      "       9095, 7412, 2759, 6568, 5510, 3293, 2901,   18, 6990, 3990, 9540,\n",
      "       2516,  710,  512, 6449, 4352, 7694, 2581, 6038, 1250, 8719, 4143,\n",
      "       8217, 1942, 8617, 9395, 7256, 4392, 4900, 8557, 5855, 5287, 8126,\n",
      "       8245,  844, 6156, 4762, 8806, 1881, 8471, 4707, 7880, 3339, 7999,\n",
      "       1195, 9164, 8139, 9983, 7154, 4847, 3467, 5654, 3206, 7853, 4885,\n",
      "       9181, 2498, 8593, 7810, 5490, 6700, 3794, 3723, 8265, 7908, 6757,\n",
      "       5253, 2721, 2791,  190, 9423, 1908, 5048, 8576, 3655, 2989, 2556,\n",
      "       4194, 5922, 4141, 4682,   69, 4624,  372, 9191, 1186, 3522, 1846,\n",
      "       9538, 6306,  892,  650,  204, 5643, 6739, 6366, 6506, 5704,   14,\n",
      "       5527, 3485, 9710, 8383, 7151, 7963, 2187, 2131, 6156, 1656, 9987,\n",
      "       3714, 2756,  872,  722, 9238, 7808, 7429, 7719, 7542, 9518, 8871,\n",
      "        865, 6847, 1231, 9667, 3719, 3757, 1460, 5106,  165, 7282, 5789,\n",
      "       5986,  826, 7750, 8028, 1876, 4038, 5390, 3431, 4773,  418, 9965,\n",
      "       6618, 3071, 1367, 3472, 2400, 9833, 2451, 6596, 7771, 5815, 5719,\n",
      "       9090, 5475, 6460, 9089, 4705, 8178,  151, 5120, 4841, 5390, 4985,\n",
      "       9123, 5897, 8663, 8420, 2702, 5622, 8461, 7612, 2716, 5698, 8851,\n",
      "       9738, 4630, 6379, 7267, 1005, 2545, 4596, 8765, 7012, 9836, 8014,\n",
      "       1441, 5494, 4847,  945, 5846, 7244, 6443, 3423,  241, 8828, 1936,\n",
      "       8901, 8768, 1935,  210, 6052, 2721, 6249, 1256, 3021, 5072,  772,\n",
      "       9751,  229, 4369, 4124,  650, 2879,  732,  501, 4027, 6019, 5908,\n",
      "       1611, 1670, 4411, 6216, 4247,  769, 8224, 1653, 4795, 3540, 4546,\n",
      "       5876, 3733, 4298, 2791, 6806, 8985, 9405, 1907, 2082, 4722, 9280,\n",
      "       6917, 1185, 5068, 4098, 6594, 1426, 3066, 8509, 2519, 7766, 5281,\n",
      "       3735, 5497, 6710, 4804, 1293, 5514,  220, 2056, 4519, 6111, 6520,\n",
      "       1994, 3014,   26, 2054, 7125, 6552, 6144, 7158, 5766, 1574, 1838,\n",
      "       5617, 6626, 4039, 9837, 8713, 5769, 4023, 3342, 4400, 4344, 2610,\n",
      "       7539,   60,  923, 7479, 4795, 6110, 2657, 4630, 5303, 4038,  267,\n",
      "       7673,  179, 6069, 2872, 5415, 7331, 4375, 2766,  965, 8854, 7108,\n",
      "       4310, 4432, 2919, 5018, 2466, 1373, 2699, 9775, 1023, 4308, 7363,\n",
      "       8800, 8968, 7179, 8214, 1281, 1818,    6, 7198, 7569, 8356, 4139,\n",
      "       7757, 5607, 9847, 6743, 9706, 2648, 5434, 8349,  332, 1767, 4445,\n",
      "       2785,  204, 2392, 5752, 6835, 1163, 2085, 7151, 6632, 6049,  689,\n",
      "       1108, 1199, 5622, 9705, 5315, 8881, 3757, 7305, 9960, 9147, 3588,\n",
      "       6092, 8419, 4385, 7518, 6202, 4548, 1067, 1606, 6426, 1185, 6207,\n",
      "       4851, 1388, 2234, 5802, 1626, 3757, 2760, 5459, 3555, 9164, 7667,\n",
      "        261, 5786, 4048, 9413, 6313, 8030, 2986, 6031, 5205, 1612, 8784,\n",
      "       8521,  864, 3715, 9434, 2031, 7305, 3982, 1985, 3263, 9981, 7918,\n",
      "       7464, 8455, 6987, 4731, 8667, 2469, 2430, 4766, 2647, 2282, 7670,\n",
      "       8812, 4878, 7137, 2516, 8860, 6391, 1658,  952, 7321, 3854, 3771,\n",
      "       3730, 3103, 9396, 6083, 1822, 9224, 5308, 8703, 4262, 5248, 2137,\n",
      "       4407, 1240, 2131, 5579,  368, 3615, 3631, 6783, 3415, 8516,  914,\n",
      "       6129, 3644, 1009, 5089, 6380, 4589, 1856, 6124, 7704, 1607, 4373,\n",
      "       1563, 3604, 7927, 2627, 7264, 5120,  682, 2733, 2019, 6563, 6027,\n",
      "       1875, 3223, 1489, 6039, 1264, 9557, 7730, 4697, 9681, 7170, 9446,\n",
      "       8157,  715, 4315, 8540, 5922, 6032, 1621, 2205, 2918, 7927, 3123,\n",
      "       8228, 1423, 8700,  292, 7353,  949, 8062, 3726, 8396,  916, 9803,\n",
      "       3609, 9444, 4306, 2559, 8804, 9609, 3378, 1509, 6309, 8769, 3867,\n",
      "       9865, 2579, 2579, 7716, 1999, 1742,  867, 5595, 8719, 4101, 7712,\n",
      "       4034, 5797, 5260, 7800, 7579, 4564, 1168, 6000, 8469, 8449, 1045,\n",
      "       9007, 8688, 1872, 5016, 5251, 3663, 6813, 1921, 6190, 6059,  595,\n",
      "        559, 4081, 9438, 2506, 2573, 8269, 8393, 3378, 5269,  318, 3570,\n",
      "       3795, 3521,  914, 7614, 2383, 4253, 8204, 4821,  184, 9932, 9231,\n",
      "       4674, 1468, 2387,  686, 5024, 3155, 3257, 4935, 7623, 9544, 5541,\n",
      "       1578, 1792, 3940, 8623, 2050, 1925, 2525, 1723, 3179, 1536, 8939,\n",
      "       2469, 9415, 5072, 9532,  648, 7731, 3656, 6471,  995, 8111, 7670,\n",
      "       8262, 6754, 4770, 2927, 7269, 5139, 5841, 6380,  331, 1994, 4251,\n",
      "        113, 6976, 1229, 8168,  365, 4233, 1840, 5555, 9716, 7267,  281,\n",
      "       3055, 6450, 3429, 8698, 2465, 7144,  937, 8787, 7297, 9028, 4229,\n",
      "       1408, 2222, 7908, 9290, 8373, 9690, 1602, 2787, 2541, 6594,  829,\n",
      "       3149, 7039, 1449, 4626, 2711, 9044, 4986, 6283, 3368, 2798, 6823,\n",
      "       1066, 7778, 6570, 5928, 6364, 1072, 3533, 4176, 1867, 9177, 6323,\n",
      "       1771, 1082, 9306, 1752, 6992, 7121, 9839, 6567, 7616, 6236, 4483,\n",
      "       6601, 2057, 2420, 4193,  287, 6395, 9350, 8102, 6469, 6773, 1506,\n",
      "        311, 2587, 6430, 8078, 9531, 6743, 8387, 1788, 7118, 6301, 3116,\n",
      "       1257, 7821, 5307, 5068, 7914, 4729, 1025, 5173, 2562, 4369, 9269,\n",
      "       8537, 9603, 1870, 1315, 1533, 2467, 5396, 9099, 2249, 7367]), 10000: array([5794, 9563, 7470, ..., 8415, 7783, 5404]), 100000: array([8598, 7492, 8714, ..., 6990, 1328, 2971]), 1000000: array([5070, 3561, 4536, ..., 5333, 4046, 4358]), 10000000: array([ 512, 1944, 4484, ..., 9456, 4811, 6055])}\n"
     ]
    }
   ],
   "source": [
    "print(inputdataset)"
   ]
  },
  {
   "cell_type": "code",
   "execution_count": 5,
   "id": "b95a4539",
   "metadata": {},
   "outputs": [],
   "source": [
    "# insertion sort for hybrid algorithm written later\n",
    "\"\"\"\n",
    "parameters of this function are original array, start index and end index. The start index and end index are indices of \n",
    "elements in original array that demarcate the portion of the array to be handled by insertion sort algorithm. After a run \n",
    "of this function on the demarcated part of the array, that part of the array is sorted in ascending order while leaving \n",
    "the rest of the array untouched.\n",
    "\"\"\"\n",
    "def insertionsort2(arr,start,end):\n",
    "    n=end-start+1;\n",
    "    kc=0\n",
    "    for h in range(1,n):\n",
    "        for i in range(h,0,-1):\n",
    "            kc+=1\n",
    "            if(arr[start+i]<arr[start+i-1]):\n",
    "                temp=arr[start+i-1]\n",
    "                arr[start+i-1]=arr[start+i]\n",
    "                arr[start+i]=temp\n",
    "            else:\n",
    "                break\n",
    "    return kc"
   ]
  },
  {
   "cell_type": "markdown",
   "id": "829ca04c",
   "metadata": {},
   "source": [
    "def insertionsort2(arr,start,end):\n",
    "    n=end-start+1;\n",
    "#### here n is size of array portion to be handled by insertion sort (demarcated by start and end indices)\n",
    "    kc=0\n",
    "#### setting initial number of key comparisons to 0\n",
    "    for h in range(1,n):\n",
    "#### outer loop runs from 1 till n-1 (indices) as in insertion sort, each element- starting from second element (index 1) till last element (index n-1) is sequentially inserted into sorted array to its left.\n",
    "        for i in range(h,0,-1):\n",
    "#### inner loop runs from value of h in outer loop till 1 (unless it gets broken when the element being placed has already reached its correct position in the sorted array to its left and thus, no further swaps are needed). The inner loop runs completely only when the element being placed is lesser than all the elements to its left.\n",
    "            kc+=1\n",
    "#### entering this inner loop means one comparison- (arr[start+i]<arr[start+i-1]) will definitely be executed. So kc is increased by 1\n",
    "            if(arr[start+i]<arr[start+i-1]):\n",
    "#### if the element being placed (arr[start+i]) is lesser than the element right before it, then these two elements are swapped\n",
    "                temp=arr[start+i-1]\n",
    "                arr[start+i-1]=arr[start+i]\n",
    "                arr[start+i]=temp\n",
    "            else:\n",
    "#### if the element being placed (arr[start+i]) is greater than or equal to the element right before it, then that means the element being placed has already reached its correct position in the sorted array on its left and no more comparisons/swaps are required. So inner loop is broken and we can move on to the next element to be placed.\n",
    "                break\n",
    "#### The function returns the total number of key comparisons conducted\n",
    "    return kc"
   ]
  },
  {
   "cell_type": "code",
   "execution_count": 6,
   "id": "616fdf7b",
   "metadata": {},
   "outputs": [],
   "source": [
    "# merge function for hybrid algorithm written later\n",
    "\"\"\"\n",
    "The merger function merges two sorted arrays into a single sorted array. It uses a temporary array as auxiliary \n",
    "storage. The parameters passed are arr- the original array, start index, mid index and end index. Here start is the\n",
    "index of the element marking the beginning of the first subarray (in the original array). Mid is the index of the element\n",
    "marking the beginning of the second subarray. End index marks the end of the second subarray.\n",
    "\"\"\"\n",
    "def merger2(arr, start, mid, end) :\n",
    "    temp = [0] * (end-start+1)\n",
    "    x=start\n",
    "    y=mid\n",
    "    z=0\n",
    "    kc=0\n",
    "    while(x<mid and y<end+1) :\n",
    "        kc+=1\n",
    "        if(arr[x]<arr[y]) :\n",
    "            temp[z]=arr[x]\n",
    "            x+=1\n",
    "            z+=1\n",
    "        elif(arr[x]==arr[y]):\n",
    "            kc+=1\n",
    "            temp[z]=arr[x]\n",
    "            x+=1\n",
    "            z+=1\n",
    "            temp[z]=arr[y]\n",
    "            z+=1\n",
    "            y+=1\n",
    "        else :\n",
    "            kc+=1\n",
    "            temp[z]=arr[y]\n",
    "            z+=1\n",
    "            y+=1\n",
    "    while(x<mid) :\n",
    "        temp[z]=arr[x]\n",
    "        x+=1\n",
    "        z+=1\n",
    "    while(y<end+1) :\n",
    "        temp[z]=arr[y]\n",
    "        y+=1\n",
    "        z+=1\n",
    "    for k in range (0,len(temp)):\n",
    "        arr[start+k]=temp[k]\n",
    "    return kc"
   ]
  },
  {
   "cell_type": "markdown",
   "id": "b544dbcf",
   "metadata": {},
   "source": [
    "def merger2(arr, start, mid, end) :\n",
    "    temp = [0] * (end-start+1)\n",
    "#### temp is the temporary array which serves as auxiliary storage for storing the final merged array.\n",
    "    x=start\n",
    "#### element at index start in original array is first element of subarray 1. x is current element of subarray 1 which is to be compared. So x is intialised as start (first element of subarray 1)\n",
    "    y=mid\n",
    "#### element at index mid in original array is first element of subarray 2. y is current element of subarray 2 which is to be compared. So y is intialised as mid (first element of subarray 2)\n",
    "    z=0\n",
    "#### z is next empty index of temp array. It is initialised as 0.\n",
    "    kc=0\n",
    "#### setting initial number of key comparisons to 0\n",
    "    while(x<mid and y<end+1) :\n",
    "#### the merging will continue until either of the two arrays run out of elements,i.e x becomes equal to mid or y exceeds end\n",
    "        kc+=1\n",
    "#### entering this while loop guarantees atleast one key comparison,i.e arr[x]<arr[y], so kc is increased by 1\n",
    "        if(arr[x]<arr[y]) :\n",
    "#### if first array's current element is smaller than second array's current element, then that smaller element is placed in the current empty index (z) of temp array and z and x are both shifted by 1 place to the right in their respective arrays.\n",
    "            temp[z]=arr[x]\n",
    "            x+=1\n",
    "            z+=1\n",
    "        elif(arr[x]==arr[y]):\n",
    "#### if first array's current element is equal to second array's current element, then both the equal elements are put into the temp array together and z is shifted by 2 places to the right. Both x and y are also shifted by 1 place to the right. arr[x]==arr[y] is another key comparison that is executed. So kc is raised by 1.\n",
    "            kc+=1\n",
    "            temp[z]=arr[x]\n",
    "            x+=1\n",
    "            z+=1\n",
    "            temp[z]=arr[y]\n",
    "            z+=1\n",
    "            y+=1\n",
    "        else :\n",
    "#### if first array's current element is greater than second array's current element, then the smaller element is placed in the current empty index (z) of temp array and z and y are both shifted by 1 place to the right in their respective arrays. As the previous else if had a kc (albeit false), kc is raised by 1.\n",
    "            kc+=1\n",
    "            temp[z]=arr[y]\n",
    "            z+=1\n",
    "            y+=1\n",
    "#### if one of the 2 subarrays isn't completely over, then one of the following two while blocks get executed to append the remanining subarray into the temp array.\n",
    "    while(x<mid) :\n",
    "#### if first subarray is not over\n",
    "        temp[z]=arr[x]\n",
    "        x+=1\n",
    "        z+=1\n",
    "    while(y<end+1) :\n",
    "#### if second subarray is not over\n",
    "        temp[z]=arr[y]\n",
    "        y+=1\n",
    "        z+=1\n",
    "#### The temp array (which is the final merged and sorted array) is copied back into the portion of the original array between start and end indices\n",
    "    for k in range (0,len(temp)):\n",
    "        arr[start+k]=temp[k]\n",
    "#### The function returns the total number of key comparisons conducted \n",
    "    return kc"
   ]
  },
  {
   "cell_type": "code",
   "execution_count": 7,
   "id": "51995f47",
   "metadata": {},
   "outputs": [],
   "source": [
    "# hybrid merge-insertion sort recursive algorithm\n",
    "\"\"\"\n",
    "Parameters passed are-:\n",
    "S- If the size of a subarray is lesser than or equal to this threshold size, then that subarray will be sorted by insertion sort algorithm. Only subarrays bigger than size S will be handled by mergesort\n",
    "arr- original input array\n",
    "start- index of element marking the beginning of subarray\n",
    "end- index of element marking the end of subarray\n",
    "\"\"\"\n",
    "def mergeinsertionsort(S,arr,start,end):\n",
    "    kc=0\n",
    "#   if end-start+1==1 and S!=1:\n",
    "#       return kc\n",
    "    if end-start+1<=S:\n",
    "        kc+=insertionsort2(arr,start,end)\n",
    "        \n",
    "    else:\n",
    "        mid=1+start+int((end-start)/2)\n",
    "        kc+=mergeinsertionsort(S,arr,start,mid-1)\n",
    "        kc+=mergeinsertionsort(S,arr,mid,end)\n",
    "        kc+=merger2(arr,start,mid,end)\n",
    "    return kc"
   ]
  },
  {
   "cell_type": "markdown",
   "id": "5398df28",
   "metadata": {},
   "source": [
    "def mergeinsertionsort(S,arr,start,end):\n",
    "    kc=0\n",
    "#### setting initial number of key comparisons to 0   \n",
    "    if end-start+1<=S:\n",
    "#### this if block does the switch to insertion sort if size of subarray (end-start+1) becomes equal or lesser than threshold S\n",
    "        kc+=insertionsort2(arr,start,end)\n",
    "  \n",
    "    else:\n",
    "#### for subarrays longer than S, the usual mergesort carries on\n",
    "        mid=1+start+int((end-start)/2)\n",
    "#### the array is partitioned into two almost equal sized subarrays (start to mid-1) and (mid to end). Mergesort is called on these two subarrays recursively and the sorted subarrays are then combined into a merged and sorted array using the merger2 function.\n",
    "        kc+=mergeinsertionsort(S,arr,start,mid-1)\n",
    "        kc+=mergeinsertionsort(S,arr,mid,end)\n",
    "        kc+=merger2(arr,start,mid,end)\n",
    "#### Total number of key comparisons are returned.\n",
    "    return kc\n",
    "#### One important point to note in our implementation of hybrid sort is that all base cases of array size=1 are handled by the insertion sort function block as for an array of one element, it is irrelevant whether it is handled by insertion sort or merge sort. No comparisons are done either way and the element is simply returned by both. So for our algorithm, the minimum valid value of S is 1 and not 0. Putting S as 0 will result in a \"maximum recursion depth exceeded in comparison\" error. The extreme case of never using insertion sort at all is represented by S=1 only and S=0 is not needed. This is because if S=1, a 1-sized array will never enter the outer for loop of insertion sort and thus, in a way insertion sort is never really executed. The single element is simply returned unchanged. \n",
    "\n",
    "#### We have a commented out if block which if added at the start of this function, will also make S=0 valid.\n",
    "#### if end-start+1==1 and S!=1:\n",
    "####        return kc\n",
    "#### But our team thinks it is not useful to check this if condition (whether array size=1 and S is not 1) everytime mergesort is called as base case of array size=1 is handled by both insertionsort and mergesort equivalently."
   ]
  },
  {
   "cell_type": "markdown",
   "id": "1955bbad",
   "metadata": {},
   "source": [
    "## Theoretical Analysis of Hybrid Algorithm\n",
    "#### Time Complexity of hybrid algorithm= Time complexity of insertion sort + Time complexity of merge sort\n",
    "#### Let S= subarray size threshold\n",
    "####        n= original array size\n",
    "Therefore, level at which insertion sort takes over from merge sort (for sorting subarrays) is when subarray size=S. So we divide the original array into n/S subarrays at level log(n/S) (log base 2)\n",
    "Recursion Tree-: (insert diagram)\n",
    "Complexity Of Merge Sort:\n",
    "    Total number of key comparisons done by merge sort in copying 𝑛 elements from each level to upper level is 𝑂(𝑛)\n",
    "    Number of levels = log(n/S)\n",
    "    Complexity of Merge sort : O(n(log(n/S)))\n",
    "    Time complexity of mergesort is the same in all cases- best,average and worst.\n",
    "Complexity Of Insertion Sort\n",
    "    We are sorting n/S subarrays each of S elements using insertion sort so number of comparisons contributed by.         insertion sort is (n/S)/n(number of comparisons in insertion sort of S elements)\n",
    "Therefore,\n",
    "    Total time complexity= O(n(log(n/S)) + (n/S)(number of comparisons in insertion sort of S elements))\n",
    "\n",
    "### Best-case Time Complexity\n",
    "This happens when Insertion sort performs in best case with O(n) i.e number of comparisons in insertion sort of S elements= S-1. Example of such a best case is when the array is completely sorted or nearly sorted.\n",
    "So, Best Case Complexity= Total Complexity = O(n+nlog(n/S))\n",
    "\n",
    "### Worst-case Time Complexity\n",
    "This happens when Insertion sort perform in worst case with O(n^2) i.e number of comparisons in insertion sort of S elements= S^2. Example of such a worst case is when the array is completely sorted in the reverse order.\n",
    "Worst Case Complexity=Total Complexity = O(nS+nlog(n/S))\n",
    "\n",
    "### Average-case Time Complexity\n",
    "Using the squeeze theorem of calculus, we can conclude that the average case time complexity will be O(nlogn) (as in both best case and worst case time complexities, the n (linear) term can be ignored in comparison to nlogn term as n logn term is way bigger than n term when n tends to infinity). As the average case function will be something lying in between the worst and best case functions and both worst and best case functions have the same limit (nlogn) when n tends to infinity, the average case function will also have the same nlogn limit."
   ]
  },
  {
   "cell_type": "code",
   "execution_count": 114,
   "id": "4684eb52",
   "metadata": {},
   "outputs": [
    {
     "name": "stdout",
     "output_type": "stream",
     "text": [
      "{1000: 9153, 10000: 126968, 100000: 1557950, 1000000: 19074895, 10000000: 226420062}\n"
     ]
    }
   ],
   "source": [
    "S=10\n",
    "TC={}\n",
    "for size,inputlist in inputdataset.items():\n",
    "  TC[size]=mergeinsertionsort(S,inputlist,0,len(inputlist)-1)\n",
    "print(TC)"
   ]
  },
  {
   "cell_type": "code",
   "execution_count": 141,
   "id": "9a9f301e",
   "metadata": {},
   "outputs": [],
   "source": [
    "import math\n",
    "keylist=[]\n",
    "for i in list(TC.keys()):\n",
    "    keylist.append(math.log10(i))\n",
    "valuelist=[]\n",
    "for i in list(TC.values()):\n",
    "    valuelist.append(i/1000)"
   ]
  },
  {
   "cell_type": "code",
   "execution_count": 145,
   "id": "93522d64",
   "metadata": {},
   "outputs": [
    {
     "data": {
      "image/png": "[encoded data removed]",
      "text/plain": [
       "<Figure size 720x720 with 1 Axes>"
      ]
     },
     "metadata": {
      "needs_background": "light"
     },
     "output_type": "display_data"
    }
   ],
   "source": [
    "import numpy as np\n",
    "fig,ax=plt.subplots(1,1,figsize=(10,10))\n",
    "ax.set_title('Number of Key Comparisons (in units of 1000 key comparisons) vs log of Input Array Size for S=10')\n",
    "ax.plot(keylist,valuelist, color='blue')\n",
    "plt.xlim(2, 8)\n",
    "plt.show()"
   ]
  },
  {
   "cell_type": "code",
   "execution_count": 160,
   "id": "352ee162",
   "metadata": {},
   "outputs": [],
   "source": [
    "from numpy.random import randint\n",
    "from numpy.random import seed\n",
    "inputdataset={}\n",
    "seed(8)\n",
    "r=1000\n",
    "while(r<10000001):\n",
    "    values = randint(1, 10001, r)\n",
    "    inputdataset[r]=values\n",
    "    r*=10"
   ]
  },
  {
   "cell_type": "code",
   "execution_count": 175,
   "id": "f6395c8a",
   "metadata": {},
   "outputs": [
    {
     "name": "stdout",
     "output_type": "stream",
     "text": [
      "{1: 1536276, 10: 1557912, 20: 1639518, 30: 1861670, 40: 1861670, 50: 2383841, 60: 2383841, 70: 2383841, 80: 2383841, 90: 2383841, 100: 3502870}\n"
     ]
    }
   ],
   "source": [
    "import copy\n",
    "TC2a={}\n",
    "for s in [1,10,20,30,40,50,60,70,80,90,100]:\n",
    "    seed(8)\n",
    "    values = randint(1, 10001, 100000)\n",
    "    TC2a[s]=mergeinsertionsort(s,values,0,100000-1)\n",
    "print(TC2a)"
   ]
  },
  {
   "cell_type": "code",
   "execution_count": 176,
   "id": "2366260f",
   "metadata": {},
   "outputs": [],
   "source": [
    "valuelist2=[]\n",
    "for i in list(TC2a.values()):\n",
    "    valuelist2.append(i/1000)"
   ]
  },
  {
   "cell_type": "code",
   "execution_count": 177,
   "id": "32e2b7ab",
   "metadata": {},
   "outputs": [
    {
     "name": "stdout",
     "output_type": "stream",
     "text": [
      "[1536.276, 1557.912, 1639.518, 1861.67, 1861.67, 2383.841, 2383.841, 2383.841, 2383.841, 2383.841, 3502.87]\n",
      "[1, 10, 20, 30, 40, 50, 60, 70, 80, 90, 100]\n"
     ]
    }
   ],
   "source": [
    "print(valuelist2)\n",
    "print(list(TC2a.keys()))"
   ]
  },
  {
   "cell_type": "code",
   "execution_count": 178,
   "id": "2c064766",
   "metadata": {},
   "outputs": [
    {
     "data": {
      "image/png": "[encoded data removed]",
      "text/plain": [
       "<Figure size 720x720 with 1 Axes>"
      ]
     },
     "metadata": {
      "needs_background": "light"
     },
     "output_type": "display_data"
    }
   ],
   "source": [
    "import numpy as np\n",
    "fig,ax=plt.subplots(1,1,figsize=(10,10))\n",
    "ax.set_title('Number of Key Comparisons (in units of 1000 key comparisons) vs value of S (subarray size threshold)')\n",
    "ax.plot(list(TC2a.keys()),valuelist2, color='blue')\n",
    "plt.xlim(0, 110)\n",
    "plt.show()"
   ]
  },
  {
   "cell_type": "code",
   "execution_count": 180,
   "id": "c7497d2d",
   "metadata": {},
   "outputs": [
    {
     "name": "stdout",
     "output_type": "stream",
     "text": [
      "254732\n"
     ]
    }
   ],
   "source": [
    "seed(8)\n",
    "values = randint(1, 10001, 1000)\n",
    "print(mergeinsertionsort(1000,values,0,1000-1))"
   ]
  },
  {
   "cell_type": "code",
   "execution_count": 8,
   "id": "6b00488d",
   "metadata": {},
   "outputs": [],
   "source": [
    "optimalanalysis={}\n",
    "for svalue in [3,5,7,10,15,20,25,30,35,40]:\n",
    "    kcvalue=0\n",
    "    for sizevalue in [1000,10000,100000,1000000,10000000]:\n",
    "        seed(8)\n",
    "        values = randint(1, 10001, sizevalue)\n",
    "        kcvalue+=mergeinsertionsort(svalue,values,0,sizevalue-1)\n",
    "    kcvalue/=5\n",
    "    optimalanalysis[svalue]=kcvalue"
   ]
  },
  {
   "cell_type": "code",
   "execution_count": 9,
   "id": "291cd864",
   "metadata": {},
   "outputs": [
    {
     "name": "stdout",
     "output_type": "stream",
     "text": [
      "[48089.2448, 48302.222, 48325.3166, 49438.0366, 49617.2294, 52868.780399999996, 52913.21079999999, 53188.1076, 53505.5944, 61295.737]\n"
     ]
    }
   ],
   "source": [
    "valuelist3=[]\n",
    "for i in list(optimalanalysis.values()):\n",
    "    valuelist3.append(i/1000)\n",
    "print(valuelist3)"
   ]
  },
  {
   "cell_type": "code",
   "execution_count": 12,
   "id": "0d057335",
   "metadata": {},
   "outputs": [
    {
     "data": {
      "image/png": "[encoded data removed]",
      "text/plain": [
       "<Figure size 720x720 with 1 Axes>"
      ]
     },
     "metadata": {
      "needs_background": "light"
     },
     "output_type": "display_data"
    }
   ],
   "source": [
    "import numpy as np\n",
    "fig,ax=plt.subplots(1,1,figsize=(10,10))\n",
    "ax.set_title('Number of Avg Key Comparisons(in units of 1000 key comparisons) vs value of S (subarray size threshold)')\n",
    "ax.plot(list(optimalanalysis.keys()),valuelist3, color='blue')\n",
    "plt.xlim(2, 45)\n",
    "plt.show()"
   ]
  },
  {
   "cell_type": "code",
   "execution_count": 13,
   "id": "9925d0f4",
   "metadata": {},
   "outputs": [],
   "source": [
    "def mergesort(arr,start,end) :\n",
    "  kc=0\n",
    "  if start==end:\n",
    "    return kc\n",
    "  mid=1+start+int((end-start)/2)\n",
    "  kc+=mergesort(arr,start,mid-1)\n",
    "  kc+=mergesort(arr,mid,end);\n",
    "  kc+=merger(arr,start,mid,end)\n",
    "  return kc\n",
    "\n",
    "def merger(arr, start, mid, end) :\n",
    "    temp = [0] * (end-start+1)\n",
    "    x=start\n",
    "    y=mid\n",
    "    z=0\n",
    "    kc=0\n",
    "    while(x<mid and y<end+1) :\n",
    "        kc+=1\n",
    "        if(arr[x]<arr[y]) :\n",
    "            temp[z]=arr[x]\n",
    "            x+=1\n",
    "            z+=1\n",
    "        elif(arr[x]==arr[y]):\n",
    "            kc+=1\n",
    "            temp[z]=arr[x]\n",
    "            x+=1\n",
    "            z+=1\n",
    "            temp[z]=arr[y]\n",
    "            z+=1\n",
    "            y+=1\n",
    "        else :\n",
    "            kc+=1\n",
    "            temp[z]=arr[y]\n",
    "            z+=1\n",
    "            y+=1\n",
    "    while(x<mid) :\n",
    "        temp[z]=arr[x]\n",
    "        x+=1\n",
    "        z+=1\n",
    "    while(y<end+1) :\n",
    "        temp[z]=arr[y]\n",
    "        y+=1\n",
    "        z+=1\n",
    "    for k in range (0,len(temp)):\n",
    "        arr[start+k]=temp[k]\n",
    "    return kc"
   ]
  },
  {
   "cell_type": "code",
   "execution_count": 14,
   "id": "5b33c09e",
   "metadata": {},
   "outputs": [],
   "source": [
    "import time\n",
    "seed(8)\n",
    "values = randint(1, 10001, 10000000)\n",
    "st1 = time.process_time()\n",
    "kcmergesort=mergesort(values,0,len(values)-1)\n",
    "et1 = time.process_time()\n",
    "seed(8)\n",
    "values = randint(1, 10001, 10000000)\n",
    "st2 = time.process_time()\n",
    "kchybridsort=mergeinsertionsort(10,values,0,len(values)-1)\n",
    "et2 = time.process_time()"
   ]
  },
  {
   "cell_type": "code",
   "execution_count": 15,
   "id": "07696b7b",
   "metadata": {},
   "outputs": [
    {
     "name": "stdout",
     "output_type": "stream",
     "text": [
      "number of key comparisons in merge sort-  220105837\n",
      "Cpu execution time:  212.51719999999978\n",
      "number of key comparisons in hybrid merge-insertion sort-  226421603\n",
      "Cpu execution time:  203.12671199999977\n",
      "difference-  -6315766\n"
     ]
    }
   ],
   "source": [
    "print(\"number of key comparisons in merge sort- \",kcmergesort)\n",
    "print(\"Cpu execution time: \",et1-st1)\n",
    "print(\"number of key comparisons in hybrid merge-insertion sort- \",kchybridsort)\n",
    "print(\"Cpu execution time: \",et2-st2)\n",
    "print(\"difference- \",kcmergesort-kchybridsort)"
   ]
  },
  {
   "cell_type": "code",
   "execution_count": 16,
   "id": "6dac5f47",
   "metadata": {},
   "outputs": [],
   "source": [
    "import time\n",
    "seed(8)\n",
    "values = randint(1, 10001, 10000000)\n",
    "st1 = time.process_time()\n",
    "kcmergesort=mergesort(values,0,len(values)-1)\n",
    "et1 = time.process_time()\n",
    "seed(8)\n",
    "values = randint(1, 10001, 10000000)\n",
    "st2 = time.process_time()\n",
    "kchybridsort=mergeinsertionsort(7,values,0,len(values)-1)\n",
    "et2 = time.process_time()"
   ]
  },
  {
   "cell_type": "code",
   "execution_count": 17,
   "id": "24c088aa",
   "metadata": {},
   "outputs": [
    {
     "name": "stdout",
     "output_type": "stream",
     "text": [
      "number of key comparisons in merge sort-  220105837\n",
      "Cpu execution time:  212.6772579999997\n",
      "number of key comparisons in hybrid merge-insertion sort-  221116032\n",
      "Cpu execution time:  199.83577700000023\n",
      "difference-  -1010195\n"
     ]
    }
   ],
   "source": [
    "print(\"number of key comparisons in merge sort- \",kcmergesort)\n",
    "print(\"Cpu execution time: \",et1-st1)\n",
    "print(\"number of key comparisons in hybrid merge-insertion sort- \",kchybridsort)\n",
    "print(\"Cpu execution time: \",et2-st2)\n",
    "print(\"difference- \",kcmergesort-kchybridsort)"
   ]
  },
  {
   "cell_type": "code",
   "execution_count": 18,
   "id": "43e9d7e0",
   "metadata": {},
   "outputs": [],
   "source": [
    "import time\n",
    "seed(8)\n",
    "values = randint(1, 10001, 10000000)\n",
    "st1 = time.process_time()\n",
    "kcmergesort=mergesort(values,0,len(values)-1)\n",
    "et1 = time.process_time()\n",
    "seed(8)\n",
    "values = randint(1, 10001, 10000000)\n",
    "st2 = time.process_time()\n",
    "kchybridsort=mergeinsertionsort(3,values,0,len(values)-1)\n",
    "et2 = time.process_time()"
   ]
  },
  {
   "cell_type": "code",
   "execution_count": 19,
   "id": "ad87c307",
   "metadata": {},
   "outputs": [
    {
     "name": "stdout",
     "output_type": "stream",
     "text": [
      "number of key comparisons in merge sort-  220105837\n",
      "Cpu execution time:  211.931642\n",
      "number of key comparisons in hybrid merge-insertion sort-  220106239\n",
      "Cpu execution time:  204.28884599999992\n",
      "difference-  -402\n"
     ]
    }
   ],
   "source": [
    "print(\"number of key comparisons in merge sort- \",kcmergesort)\n",
    "print(\"Cpu execution time: \",et1-st1)\n",
    "print(\"number of key comparisons in hybrid merge-insertion sort- \",kchybridsort)\n",
    "print(\"Cpu execution time: \",et2-st2)\n",
    "print(\"difference- \",kcmergesort-kchybridsort)"
   ]
  },
  {
   "cell_type": "code",
   "execution_count": null,
   "id": "0a906ab0",
   "metadata": {},
   "outputs": [],
   "source": []
  }
 ],
 "metadata": {
  "kernelspec": {
   "display_name": "Python 3 (ipykernel)",
   "language": "python",
   "name": "python3"
  },
  "language_info": {
   "codemirror_mode": {
    "name": "ipython",
    "version": 3
   },
   "file_extension": ".py",
   "mimetype": "text/x-python",
   "name": "python",
   "nbconvert_exporter": "python",
   "pygments_lexer": "ipython3",
   "version": "3.9.12"
  }
 },
 "nbformat": 4,
 "nbformat_minor": 5
}
